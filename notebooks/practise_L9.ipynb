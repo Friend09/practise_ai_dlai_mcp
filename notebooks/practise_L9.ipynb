{
 "cells": [
  {
   "cell_type": "markdown",
   "id": "7a34fb7e",
   "metadata": {},
   "source": [
    "# Lesson 9: Creating and Deploying Remote Servers "
   ]
  },
  {
   "cell_type": "markdown",
   "id": "01d0d951-fc0a-4184-99a4-8a16c68fa73a",
   "metadata": {},
   "source": [
    "In the previous lessons, you worked with servers running locally using `stdio` transport. In this lesson, you will learn how to create a remote server using `FastMCP`, test it using MCP inspector and then learn how to deploy it on `render.com`.\n",
    "\n",
    "You will focus on the `sse` transport. When the course was filmed, the python `sdk` for `Streamable HTTP` was in active development. However, this lesson will still give you insights into what a remote server is. We included notes for how the server implementation would be different with `Streamable HTTP` (slight changes since `FastMCP` provides you with a high-level interface)."
   ]
  },
  {
   "cell_type": "markdown",
   "id": "4b5a513a",
   "metadata": {},
   "source": [
    "## Creating an SSE Remote Server"
   ]
  },
  {
   "cell_type": "markdown",
   "id": "ad158513-4040-4db3-9ad0-c8cb442b2ffe",
   "metadata": {},
   "source": [
    "With `FastMCP`, it's also easy to create an SSE remote server. You just need to specify that the transport is `sse` when running the server. You can also specify the port number when initializing the FastMCP server. The remaining tool, prompt and resource definitions are all the same. So the following code for the MCP server is the same code you saw in Lesson 7. The transport is specified at the end, and the port number of `8001` is specified in the `FastMCP` constructor (you may also decide to choose the default port as well). "
   ]
  },
  {
   "cell_type": "code",
   "execution_count": null,
   "id": "501238f4-0609-4222-9092-ed5bd31987d6",
   "metadata": {},
   "outputs": [],
   "source": []
  },
  {
   "cell_type": "markdown",
   "id": "ee3c8c5c-2b04-4a73-aaff-0f98c5594b5c",
   "metadata": {},
   "source": [
    "**Streamable HTTP**: \n",
    "You can also use FastMCP to create a remote server using the transport \"Streamable HTTP\". The code would be again the same for tool, resource and prompt definitions. But when you run the server, you specify the transport as:\n",
    "\n",
    "```python\n",
    "mcp.run(transport=\"streamable-http\")\n",
    "```\n",
    " And when you initiate the FastMCP server you have two options:\n",
    "\n",
    "```python\n",
    "# Stateful server (maintains session state)\n",
    "mcp = FastMCP(\"research\")\n",
    "\n",
    "# Stateless server (no session persistence)\n",
    "mcp = FastMCP(\"research\", stateless_http=True)\n",
    "```\n",
    "\n",
    "Stateless can be used when you want the server to handle simple, independent requests (no memory of previous interactions with the same client). Stateful can be used when you want the server to handle multiple requests that are part of a workflow and you want the server to remember the Client information and context across multiple requests."
   ]
  },
  {
   "cell_type": "markdown",
   "id": "eda9378b",
   "metadata": {},
   "source": [
    "## Testing the SSE Remote Server"
   ]
  },
  {
   "cell_type": "markdown",
   "id": "fe57c66b",
   "metadata": {},
   "source": [
    "After you create the python file for your remote server, you can test it using the MCP inspector or the simple chatbot of lesson 5, you can also integrate it with the chatbot of lesson 7. In order to test it, you first need to launch it to get its `URL` and then provide the `URL` to the chatbot or MCP inspector. \n",
    "\n",
    "**Note**: A server using the `stdio` transport is launched as a subprocess by the MCP client. On the other hand, a remote server is an independent processes running separately from the client and needs to be already running before the MCP client connects to it."
   ]
  },
  {
   "cell_type": "markdown",
   "id": "0c3e3492",
   "metadata": {},
   "source": [
    "\n",
    "### How to run and test it on your local machine? - Optional Reading"
   ]
  },
  {
   "cell_type": "markdown",
   "id": "cf119130-6071-4129-afd7-5cadc225e171",
   "metadata": {},
   "source": [
    "You would need first to create and prepare a separate environment for the remote server. You can follow the same steps you learned about in the previous lessons:\n",
    "- initiate the folder using `uv init`,\n",
    "- create a virtual environment and activate it,\n",
    "- add the required dependencies (`uv add arxiv mcp`).\n",
    "\n",
    "You can then open a terminal and run your server using (`uv run research_server.py`), you'd need to keep the terminal open for the server to keep on running. You'll get a message in the terminal that the server is running at a given address. The `URL` that you would need to provide to the inspector or chatbot is that address with the appended `/sse` at the end. In a second terminal, you can launch the MCP inspector or your chatbot. Please check the comments below on how you can update the MCP chatbot. \n",
    "\n",
    "**Streamable HTPP**: same process for everything. For the `URL`, you would need to append `/mcp/` instead of `/sse`."
   ]
  },
  {
   "cell_type": "markdown",
   "id": "f4bb3a47-15be-4d87-b89e-760f1678dd59",
   "metadata": {},
   "source": [
    "### Testing the server with MCP Inspector in this Lab"
   ]
  },
  {
   "cell_type": "markdown",
   "id": "6d725b5b-0356-47f7-a780-b528acc36613",
   "metadata": {},
   "source": [
    "#### URL Link to the Remote server"
   ]
  },
  {
   "cell_type": "markdown",
   "id": "7622f782-7743-408f-b966-26b5428dd158",
   "metadata": {},
   "source": [
    "In this lesson, you won't need to launch the remote server on your own. It's already provided to you; the remote server is already up and running in a separate container at port 8001. Run the next cell to get its URL. You'd need to use this URL to test the server in the MCP inspector. \n",
    "\n",
    "**Note**: If you'd like to learn how to run the MCP server in a docker container, please check the Appendix at the end of this course."
   ]
  },
  {
   "cell_type": "code",
   "execution_count": null,
   "id": "8e07e340",
   "metadata": {},
   "outputs": [],
   "source": []
  },
  {
   "cell_type": "markdown",
   "id": "69e96aea-53b3-4102-91f5-ad1010d645cb",
   "metadata": {},
   "source": [
    "#### Testing the Provided Remote Server using MCP Inspector"
   ]
  },
  {
   "cell_type": "markdown",
   "id": "60f8fae8",
   "metadata": {},
   "source": [
    "**Terminal Instructions**"
   ]
  },
  {
   "cell_type": "markdown",
   "id": "24309c15",
   "metadata": {},
   "source": [
    "- To open the terminal, run the cell below.\n",
    "  - The terminal might show the `work` directory or `L4/mcp_project`. You can stay in any directory, you don't need to navigate to `L9/mcp_project`. That's because you'll test a remote server that is already up and running, so you can launch the inspector from any directory.\n",
    "  - If the terminal shows `L4/mcp_project` and you still have the inspector open from L4, you can close it by typing `CTRL+C` and then launch it again.\n",
    "- To launch the inspector, type in the terminal: `npx @modelcontextprotocol/inspector`\n",
    "  - If you get a message asking \"need to install the following packages\", type: `y`\n",
    "- You will get a message saying that the inspector is up and running at a specific address. To open the inspector, click on that given address. The inspector will open in another tab.\n",
    "- Please check the \"Inspector UI Instructions\" below.\n",
    "- Once you're done with the inspector UI, make sure to close the inspector by typing `Ctrl+C` in the terminal below."
   ]
  },
  {
   "cell_type": "markdown",
   "id": "869e71fd",
   "metadata": {},
   "source": [
    "**Note**: The server is running in a different environment, and there are no topics saved under papers in the server's environment, so when you check the resources in the MCP inspector, you will get that there are no resources. "
   ]
  },
  {
   "cell_type": "code",
   "execution_count": null,
   "id": "c1b6fff4-3356-4e89-a06e-2c96c12053f2",
   "metadata": {},
   "outputs": [],
   "source": []
  },
  {
   "cell_type": "markdown",
   "id": "8d217492-a766-4750-be96-447582279f72",
   "metadata": {},
   "source": [
    "**Inspector UI Instructions**"
   ]
  },
  {
   "cell_type": "markdown",
   "id": "68d6a29c-a5ce-470b-8038-caa66ff767af",
   "metadata": {},
   "source": [
    "In the inspector UI, make sure you have:\n",
    "\n",
    "<img src=\"images/inspector2.png\" height=\"300\">\n",
    "\n",
    "1.  `SSE` under `Transport Type`\n",
    "2.  The URL of the remote server under `URL` (this is the link that ends with `sse`, the output of the cell you run before the terminal)\n",
    "3.  Under configuration, you have to specify the \"Inspector Proxy Address\":\n",
    "      - Run the following cell and copy the output address and paste it under \"Inspector Proxy Address\" in the inspector UI. Note: if you're running the inspector locally on your machine, you don't need to worry about this step."
   ]
  },
  {
   "cell_type": "code",
   "execution_count": null,
   "id": "5cf41759-d8ab-4a30-a22f-35790622238f",
   "metadata": {},
   "outputs": [],
   "source": []
  },
  {
   "cell_type": "markdown",
   "id": "7074b5c8-cfef-4bb8-af17-75f971cd307e",
   "metadata": {},
   "source": [
    "#### Optional Note - How to Update the MCP chatbot so it can connect to a remote server?"
   ]
  },
  {
   "cell_type": "markdown",
   "id": "918248ea-d1c0-4698-ac33-28d291dd262a",
   "metadata": {},
   "source": [
    "You used `stdio_client` from the Python sdk to connect to the local server over `stdio`. The Python sdk provides another client `sse_client` that you can use to connect to a remote server over `sse`.  \n",
    "First, you'd need to import `sse_client`:\n",
    "```python\n",
    "from mcp.client.sse import sse_client\n",
    "\n",
    "```\n",
    "\n",
    "Then in `connect_to_server`, you can use the same code, but instead of using `stdio_client`, you can use `sse_client` and pass to it the server url.\n",
    "\n",
    "```python\n",
    "sse_transport = await self.exit_stack.enter_async_context(\n",
    "                   sse_client(url= \"server_url/sse\" )\n",
    "                )\n",
    "read, write = sse_transport \n",
    "```\n",
    "The rest of the code should be the same.\n",
    "\n",
    "**Stremable http client**\n",
    "\n",
    "And if your remote server is running over `streamable http`, then you can similarly use the `streamablehttp_client`\n",
    "\n",
    "``` python\n",
    "from mcp.client.streamable_http import streamablehttp_client\n",
    "streamable_transport = await self.exit_stack.enter_async_context(\n",
    "                   streamablehttp_client(url= \"server_url/mcp/\" )\n",
    "                )\n",
    "read, write = streamable_transport \n",
    "```\n"
   ]
  },
  {
   "cell_type": "markdown",
   "id": "42e807be",
   "metadata": {},
   "source": [
    "## Optional - Deploying an SSE Server Using Render.com "
   ]
  },
  {
   "cell_type": "markdown",
   "id": "1c5a4612",
   "metadata": {},
   "source": [
    "This part is optional and for you to explore on your local machine. If you'd like to try it, you can follow the instructions in the video. Make sure first to create an account at render [here](https://dashboard.render.com/login) using your Github account. "
   ]
  },
  {
   "cell_type": "markdown",
   "id": "fb280936-286b-4ff9-a208-f854c66bf46c",
   "metadata": {},
   "source": [
    "## Resources"
   ]
  },
  {
   "cell_type": "markdown",
   "id": "1274715b-ea96-47d2-8d37-e2216e274942",
   "metadata": {},
   "source": [
    "- Deploy Remote MCP servers on CloudFlare [link](https://developers.cloudflare.com/agents/guides/remote-mcp-server/)\n",
    "- Streamable HTTP transport [link](https://github.com/modelcontextprotocol/python-sdk/blob/main/README.md#streamable-http-transport)\n",
    "- For low level server with Streamable HTTP implementations, see:\n",
    "    - Stateful server: [examples](https://github.com/modelcontextprotocol/python-sdk/tree/main/examples/servers/simple-streamablehttp)\n",
    "    - Stateless server: [examples](https://github.com/modelcontextprotocol/python-sdk/tree/main/examples/servers/simple-streamablehttp-stateless)"
   ]
  }
 ],
 "metadata": {
  "kernelspec": {
   "display_name": "Python 3 (ipykernel)",
   "language": "python",
   "name": "python3"
  },
  "language_info": {
   "codemirror_mode": {
    "name": "ipython",
    "version": 3
   },
   "file_extension": ".py",
   "mimetype": "text/x-python",
   "name": "python",
   "nbconvert_exporter": "python",
   "pygments_lexer": "ipython3",
   "version": "3.10.11"
  }
 },
 "nbformat": 4,
 "nbformat_minor": 5
}
